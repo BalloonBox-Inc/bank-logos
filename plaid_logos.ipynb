{
 "cells": [
  {
   "cell_type": "code",
   "execution_count": null,
   "metadata": {},
   "outputs": [],
   "source": [
    "import requests\n",
    "import json\n",
    "import os\n",
    "from dotenv import load_dotenv\n",
    "load_dotenv()\n",
    "\n",
    "import base64\n",
    "from PIL import Image\n",
    "from io import BytesIO"
   ]
  },
  {
   "cell_type": "code",
   "execution_count": null,
   "metadata": {},
   "outputs": [],
   "source": [
    "url = \"https://production.plaid.com/institutions/get\"\n",
    "payload={\n",
    "        \"client_id\": os.getenv(\"PLAID_ID\"),\n",
    "        \"secret\": os.getenv(\"PLAID_SECRET\"),\n",
    "        \"count\": 500,\n",
    "        \"offset\": 0,\n",
    "        \"country_codes\": [\"US\"],\n",
    "        \"options\": {\n",
    "            \"include_optional_metadata\": True\n",
    "                }\n",
    "        }\n",
    "payload = json.dumps(payload)\n",
    "headers = {\n",
    "'Content-Type': 'application/json'}\n",
    "response = requests.request(\"POST\", url, headers=headers, data=payload).json()"
   ]
  },
  {
   "cell_type": "code",
   "execution_count": null,
   "metadata": {},
   "outputs": [],
   "source": [
    "institutions = response['institutions']\n",
    "for inst in institutions:\n",
    "    try:\n",
    "        name = inst['name']\n",
    "        inst_id = inst['institution_id']\n",
    "        encoded = inst['logo']\n",
    "        im = Image.open(BytesIO(base64.b64decode(encoded)))\n",
    "        filename = inst_id +'.png'\n",
    "        im.save(filename, 'PNG')\n",
    "        print(inst_id + \" - \" + name)\n",
    "    except:\n",
    "        print(inst_id + \" - \" + name + \" [No Logo]\")"
   ]
  },
  {
   "cell_type": "code",
   "execution_count": null,
   "metadata": {},
   "outputs": [],
   "source": [
    "# import base64\n",
    "# from PIL import Image\n",
    "# from io import BytesIO\n",
    "\n",
    "# im = Image.open(BytesIO(base64.b64decode(encoded)))\n",
    "# im.save('image.png', 'PNG')"
   ]
  },
  {
   "cell_type": "code",
   "execution_count": null,
   "metadata": {},
   "outputs": [],
   "source": []
  }
 ],
 "metadata": {
  "interpreter": {
   "hash": "aee8b7b246df8f9039afb4144a1f6fd8d2ca17a180786b69acc140d282b71a49"
  },
  "kernelspec": {
   "display_name": "Python 3.9.6 64-bit",
   "name": "python3"
  },
  "language_info": {
   "codemirror_mode": {
    "name": "ipython",
    "version": 3
   },
   "file_extension": ".py",
   "mimetype": "text/x-python",
   "name": "python",
   "nbconvert_exporter": "python",
   "pygments_lexer": "ipython3",
   "version": "3.9.6"
  },
  "orig_nbformat": 4
 },
 "nbformat": 4,
 "nbformat_minor": 2
}