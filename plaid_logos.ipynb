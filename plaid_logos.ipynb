{
 "cells": [
  {
   "cell_type": "code",
   "execution_count": 1,
   "metadata": {},
   "outputs": [],
   "source": [
    "import requests\n",
    "import json\n",
    "import os\n",
    "from dotenv import load_dotenv\n",
    "load_dotenv()\n",
    "\n",
    "import base64\n",
    "from PIL import Image\n",
    "from io import BytesIO"
   ]
  },
  {
   "cell_type": "code",
   "execution_count": 2,
   "metadata": {},
   "outputs": [],
   "source": [
    "url = \"https://production.plaid.com/institutions/get\"\n",
    "payload={\n",
    "        \"client_id\": os.getenv(\"PLAID_ID\"),\n",
    "        \"secret\": os.getenv(\"PLAID_SECRET\"),\n",
    "        \"count\": 500,\n",
    "        \"offset\": 0,\n",
    "        \"country_codes\": [\"US\"],\n",
    "        \"options\": {\n",
    "            \"include_optional_metadata\": True\n",
    "                }\n",
    "        }\n",
    "payload = json.dumps(payload)\n",
    "headers = {\n",
    "'Content-Type': 'application/json'}\n",
    "response = requests.request(\"POST\", url, headers=headers, data=payload).json()"
   ]
  },
  {
   "cell_type": "code",
   "execution_count": 5,
   "metadata": {},
   "outputs": [
    {
     "data": {
      "text/plain": [
       "{'country_codes': ['US'],\n",
       " 'credentials': [{'label': 'Username', 'name': 'username', 'type': 'text'},\n",
       "  {'label': 'Password', 'name': 'password', 'type': 'password'}],\n",
       " 'has_mfa': True,\n",
       " 'input_spec': 'fixed',\n",
       " 'institution_id': 'ins_129662',\n",
       " 'logo': None,\n",
       " 'mfa': ['code', 'list', 'questions', 'selections'],\n",
       " 'mfa_code_type': 'numeric',\n",
       " 'name': 'CUNA Mutual - MyRetirementFuture (Participant)',\n",
       " 'oauth': False,\n",
       " 'primary_color': '#0075a3',\n",
       " 'products': ['assets', 'balance', 'transactions', 'investments'],\n",
       " 'routing_numbers': [],\n",
       " 'url': 'https://www.myretirementfuture.com/servlet/ParticipantWebServlet?PL=participant'}"
      ]
     },
     "execution_count": 5,
     "metadata": {},
     "output_type": "execute_result"
    }
   ],
   "source": [
    "institutions[2]"
   ]
  },
  {
   "cell_type": "code",
   "execution_count": 7,
   "metadata": {},
   "outputs": [
    {
     "name": "stdout",
     "output_type": "stream",
     "text": [
      "ins_129571 - Bank21\n",
      "ins_130958 - Bridge\n",
      "ins_129662 - CUNA Mutual - MyRetirementFuture (Participant) [No Logo]\n",
      "ins_130332 - First Community Bank & Trust (IL) [No Logo]\n",
      "ins_129666 - First Horizon Bank - Business [No Logo]\n",
      "ins_130270 - 5th Bank of Central Wisconsin [No Logo]\n",
      "ins_131862 - A+ Federal Credit Union\n",
      "ins_130217 - Ally Bank - Home Loan\n",
      "ins_25 - Ally Bank\n",
      "ins_131968 - AngelList Stack\n"
     ]
    }
   ],
   "source": [
    "institutions = response['institutions']\n",
    "for inst in institutions:\n",
    "    try:\n",
    "        name = inst['name']\n",
    "        inst_id = inst['institution_id']\n",
    "        encoded = inst['logo']\n",
    "        im = Image.open(BytesIO(base64.b64decode(encoded)))\n",
    "        filename = inst_id +'.png'\n",
    "        im.save(filename, 'PNG')\n",
    "        print(inst_id + \" - \" + name)\n",
    "    except:\n",
    "        print(inst_id + \" - \" + name + \" [No Logo]\")"
   ]
  },
  {
   "cell_type": "code",
   "execution_count": null,
   "metadata": {},
   "outputs": [],
   "source": [
    "# import base64\n",
    "# from PIL import Image\n",
    "# from io import BytesIO\n",
    "\n",
    "# im = Image.open(BytesIO(base64.b64decode(encoded)))\n",
    "# im.save('image.png', 'PNG')"
   ]
  },
  {
   "cell_type": "code",
   "execution_count": null,
   "metadata": {},
   "outputs": [],
   "source": []
  }
 ],
 "metadata": {
  "interpreter": {
   "hash": "aee8b7b246df8f9039afb4144a1f6fd8d2ca17a180786b69acc140d282b71a49"
  },
  "kernelspec": {
   "display_name": "Python 3.9.6 64-bit",
   "name": "python3"
  },
  "language_info": {
   "codemirror_mode": {
    "name": "ipython",
    "version": 3
   },
   "file_extension": ".py",
   "mimetype": "text/x-python",
   "name": "python",
   "nbconvert_exporter": "python",
   "pygments_lexer": "ipython3",
   "version": "3.9.6"
  },
  "orig_nbformat": 4
 },
 "nbformat": 4,
 "nbformat_minor": 2
}